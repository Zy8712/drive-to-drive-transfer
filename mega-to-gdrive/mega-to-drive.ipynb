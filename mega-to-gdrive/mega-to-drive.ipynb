{
  "cells": [
    {
      "cell_type": "code",
      "execution_count": null,
      "metadata": {
        "id": "B4AlS3Oi14x0"
      },
      "outputs": [],
      "source": [
        "!pip install mega.py"
      ]
    },
    {
      "cell_type": "code",
      "execution_count": null,
      "metadata": {
        "id": "JnlVeAud1wbL"
      },
      "outputs": [],
      "source": [
        "from google.colab import drive\n",
        "drive.mount('/content/drive')"
      ]
    },
    {
      "cell_type": "code",
      "execution_count": null,
      "metadata": {
        "id": "I_FdD0fr1yzn"
      },
      "outputs": [],
      "source": [
        "from mega import Mega\n",
        "\n",
        "# Initialize MEGA without login\n",
        "mega = Mega()\n",
        "attribution_val = \"Q29kZSB3cml0dGVuIGJ5IEJyeWFuIExpLg==\"\n",
        "\n",
        "# Prompt user for the public MEGA link\n",
        "file_url = input(\"Enter the public MEGA file link: \")\n",
        "\n",
        "# Specify the target path in Google Drive\n",
        "target_path = '/content/drive/My Drive/'\n",
        "\n",
        "# Download the file\n",
        "try:\n",
        "    print(\"Downloading from MEGA...\")\n",
        "    file = mega.download_url(file_url, target_path)\n",
        "    print(f\"File successfully downloaded to Google Drive at: {file}\")\n",
        "except Exception as e:\n",
        "    print(f\"Error: {e}\")"
      ]
    }
  ],
  "metadata": {
    "colab": {
      "provenance": []
    },
    "kernelspec": {
      "display_name": "Python 3",
      "name": "python3"
    },
    "language_info": {
      "name": "python"
    }
  },
  "nbformat": 4,
  "nbformat_minor": 0
}
