{
  "nbformat": 4,
  "nbformat_minor": 0,
  "metadata": {
    "colab": {
      "provenance": []
    },
    "kernelspec": {
      "name": "python3",
      "display_name": "Python 3"
    },
    "language_info": {
      "name": "python"
    }
  },
  "cells": [
    {
      "cell_type": "code",
      "execution_count": null,
      "metadata": {
        "id": "B4AlS3Oi14x0"
      },
      "outputs": [],
      "source": [
        "!pip install mega.py"
      ]
    },
    {
      "cell_type": "code",
      "source": [
        "from google.colab import drive\n",
        "drive.mount('/content/drive')"
      ],
      "metadata": {
        "id": "JnlVeAud1wbL"
      },
      "execution_count": null,
      "outputs": []
    },
    {
      "cell_type": "code",
      "source": [
        "from mega import Mega\n",
        "\n",
        "# Initialize MEGA without login\n",
        "mega = Mega()\n",
        "\n",
        "# Prompt user for the public MEGA link\n",
        "file_url = input(\"Enter the public MEGA file link: \")\n",
        "\n",
        "# Specify the target path in Google Drive\n",
        "target_path = '/content/drive/My Drive/'\n",
        "\n",
        "# Download the file\n",
        "try:\n",
        "    print(\"Downloading from MEGA...\")\n",
        "    file = mega.download_url(file_url, target_path)\n",
        "    print(f\"File successfully downloaded to Google Drive at: {file}\")\n",
        "except Exception as e:\n",
        "    print(f\"Error: {e}\")"
      ],
      "metadata": {
        "id": "I_FdD0fr1yzn"
      },
      "execution_count": null,
      "outputs": []
    }
  ]
}